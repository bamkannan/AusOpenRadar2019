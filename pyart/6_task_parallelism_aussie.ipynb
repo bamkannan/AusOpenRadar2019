{
 "cells": [
  {
   "cell_type": "code",
   "execution_count": 1,
   "metadata": {},
   "outputs": [
    {
     "name": "stdout",
     "output_type": "stream",
     "text": [
      "\n",
      "## You are using the Python ARM Radar Toolkit (Py-ART), an open source\n",
      "## library for working with weather radar data. Py-ART is partly\n",
      "## supported by the U.S. Department of Energy as part of the Atmospheric\n",
      "## Radiation Measurement (ARM) Climate Research Facility, an Office of\n",
      "## Science user facility.\n",
      "##\n",
      "## If you use this software to prepare a publication, please cite:\n",
      "##\n",
      "##     JJ Helmus and SM Collis, JORS 2016, doi: 10.5334/jors.119\n",
      "\n"
     ]
    },
    {
     "name": "stderr",
     "output_type": "stream",
     "text": [
      "/srv/conda/envs/notebook/lib/python3.7/site-packages/distributed/client.py:2: DeprecationWarning: Using or importing the ABCs from 'collections' instead of from 'collections.abc' is deprecated, and in 3.8 it will stop working\n",
      "  from collections import defaultdict, Iterator\n",
      "/srv/conda/envs/notebook/lib/python3.7/site-packages/distributed/scheduler.py:2: DeprecationWarning: Using or importing the ABCs from 'collections' instead of from 'collections.abc' is deprecated, and in 3.8 it will stop working\n",
      "  from collections import defaultdict, deque, OrderedDict, Mapping, Set\n",
      "/srv/conda/envs/notebook/lib/python3.7/site-packages/distributed/scheduler.py:2: DeprecationWarning: Using or importing the ABCs from 'collections' instead of from 'collections.abc' is deprecated, and in 3.8 it will stop working\n",
      "  from collections import defaultdict, deque, OrderedDict, Mapping, Set\n"
     ]
    }
   ],
   "source": [
    "import nexradaws\n",
    "import tempfile\n",
    "import os\n",
    "import shutil\n",
    "import pyart\n",
    "from matplotlib import pyplot as plt\n",
    "from netCDF4 import num2date\n",
    "import numpy as np\n",
    "import cftime\n",
    "\n",
    "from dask_kubernetes import KubeCluster\n",
    "from dask.distributed import Client, TimeoutError\n",
    "from dask.distributed import wait, progress\n",
    "#import six"
   ]
  },
  {
   "cell_type": "code",
   "execution_count": null,
   "metadata": {},
   "outputs": [],
   "source": []
  },
  {
   "cell_type": "code",
   "execution_count": 3,
   "metadata": {},
   "outputs": [
    {
     "name": "stdout",
     "output_type": "stream",
     "text": [
      "NOOO!\n"
     ]
    }
   ],
   "source": [
    "#As it can take some time to spin up first start the Dask cluster\n",
    "# Select 20 'workers' under 'manual scaling' menu below and click 'Scale'\n",
    "# Click on the 'Dashboard link' to monitor calculation progress\n",
    "try:\n",
    "    client = Client('tcp://localhost:33949', timeout='2s')\n",
    "    new_cluster = False\n",
    "except:\n",
    "    print('NOOO!')\n",
    "    cluster = KubeCluster(n_workers=20)\n",
    "    cluster\n",
    "    new_cluster = True"
   ]
  },
  {
   "cell_type": "code",
   "execution_count": 4,
   "metadata": {},
   "outputs": [
    {
     "data": {
      "application/vnd.jupyter.widget-view+json": {
       "model_id": "0aeca83256294bf9bbdad33cd281d1d1",
       "version_major": 2,
       "version_minor": 0
      },
      "text/plain": [
       "VBox(children=(HTML(value='<h2>KubeCluster</h2>'), HBox(children=(HTML(value='\\n<div>\\n  <style scoped>\\n    .…"
      ]
     },
     "metadata": {},
     "output_type": "display_data"
    }
   ],
   "source": [
    "cluster"
   ]
  },
  {
   "cell_type": "code",
   "execution_count": 5,
   "metadata": {},
   "outputs": [],
   "source": [
    "def simple_sum(filename):\n",
    "    try: #catch two common errors\n",
    "        this_dataset = pyart.aux_io.read_odim_h5(filename)\n",
    "        fp = 1\n",
    "        time_start = num2date(this_dataset.time['data'][0], this_dataset.time['units'])\n",
    "        tgates = float(this_dataset.ngates*this_dataset.nrays)\n",
    "        zdat = this_dataset.fields['reflectivity']['data']\n",
    "        fp = 2\n",
    "        z0 = float(len(np.where(zdat > 0.)[0]))/tgates\n",
    "        z10 = float(len(np.where(zdat > 10.)[0]))/tgates\n",
    "        z40 = float(len(np.where(zdat > 40.)[0]))/tgates\n",
    "                \n",
    "        grids = pyart.map.grid_from_radars(this_dataset,(31,401,401),\n",
    "                   ((0.,15000.),(-200000.,200000.),(-200000.,200000.)),\n",
    "                   fields=this_dataset.fields.keys(),\n",
    "                   refl_field='reflectivity', weighting_function='BARNES2')  \n",
    "        \n",
    "        z_prof_mean = grids.fields['reflectivity']['data'].mean(axis=(1,2))\n",
    "        z_prof_max = grids.fields['reflectivity']['data'].max(axis=(1,2))\n",
    "        npts_over = np.array([float(len(np.where(grids.fields['reflectivity']['data'][i, :, :] > 10.)[0]))\\\n",
    "                      for i in range(grids.fields['reflectivity']['data'].shape[0])])\n",
    "        \n",
    "        del this_dataset, grids\n",
    "        rv = (time_start, z0, z10, z40, \n",
    "              z_prof_mean, z_prof_max, npts_over)\n",
    "    except (TypeError, KeyError) as e:\n",
    "        rv = 'error'\n",
    "    return rv\n"
   ]
  },
  {
   "cell_type": "code",
   "execution_count": 6,
   "metadata": {},
   "outputs": [],
   "source": [
    "indir = os.path.expanduser('~/data/aus/terryhills/')"
   ]
  },
  {
   "cell_type": "code",
   "execution_count": 7,
   "metadata": {},
   "outputs": [],
   "source": [
    "files = os.listdir(indir)"
   ]
  },
  {
   "cell_type": "code",
   "execution_count": 8,
   "metadata": {},
   "outputs": [],
   "source": [
    "files = [os.path.join(indir, thise) for thise in files]"
   ]
  },
  {
   "cell_type": "code",
   "execution_count": 9,
   "metadata": {},
   "outputs": [
    {
     "name": "stderr",
     "output_type": "stream",
     "text": [
      "/srv/conda/envs/notebook/lib/python3.7/site-packages/ipykernel_launcher.py:9: RuntimeWarning: invalid value encountered in greater\n",
      "  if __name__ == '__main__':\n",
      "/srv/conda/envs/notebook/lib/python3.7/site-packages/ipykernel_launcher.py:10: RuntimeWarning: invalid value encountered in greater\n",
      "  # Remove the CWD from sys.path while we load stuff.\n",
      "/srv/conda/envs/notebook/lib/python3.7/site-packages/ipykernel_launcher.py:11: RuntimeWarning: invalid value encountered in greater\n",
      "  # This is added back by InteractiveShellApp.init_path()\n"
     ]
    },
    {
     "data": {
      "text/plain": [
       "(real_datetime(2018, 12, 20, 4, 54, 28),\n",
       " 0.04478852513227513,\n",
       " 0.03195982142857143,\n",
       " 0.0047240410052910055,\n",
       " masked_array(data=[17.81810247873146, 17.371086935452606,\n",
       "                    17.197531868425745, 17.555091585374413,\n",
       "                    18.336207353721054, 18.782215749824807,\n",
       "                    19.086234149655123, 19.371569315857,\n",
       "                    19.631417123757284, 19.759159755234148,\n",
       "                    20.004163590294326, 20.047691428382095,\n",
       "                    20.05997122856487, 20.11392268125408,\n",
       "                    20.015706454450672, 19.904804700294793,\n",
       "                    19.76370686794957, 19.650084299173106,\n",
       "                    19.462844428188248, 19.295947219604148,\n",
       "                    19.13794215970132, 18.921072892685487,\n",
       "                    18.757475002164316, 18.521300422138836,\n",
       "                    18.257407551677574, 18.07272488456074,\n",
       "                    18.032735742146322, 18.083984375, 18.286575605591718,\n",
       "                    18.587862171566076, 19.076489495624898],\n",
       "              mask=[False, False, False, False, False, False, False, False,\n",
       "                    False, False, False, False, False, False, False, False,\n",
       "                    False, False, False, False, False, False, False, False,\n",
       "                    False, False, False, False, False, False, False],\n",
       "        fill_value=1e+20),\n",
       " masked_array(data=[67.2038803100586, 66.47447204589844, 65.85867309570312,\n",
       "                    65.30510711669922, 64.78668975830078,\n",
       "                    64.55941772460938, 64.39737701416016, 64.3820571899414,\n",
       "                    64.13675689697266, 63.63618850708008,\n",
       "                    63.35757064819336, 64.12683868408203,\n",
       "                    64.66573333740234, 65.04551696777344,\n",
       "                    65.45728302001953, 65.88518524169922,\n",
       "                    66.21587371826172, 66.2524642944336, 66.23568725585938,\n",
       "                    65.57289123535156, 64.64745330810547, 63.9356689453125,\n",
       "                    62.68866729736328, 59.9437141418457,\n",
       "                    56.808528900146484, 53.82064437866211,\n",
       "                    53.35457992553711, 53.189884185791016,\n",
       "                    53.401702880859375, 53.413246154785156,\n",
       "                    53.32865524291992],\n",
       "              mask=[False, False, False, False, False, False, False, False,\n",
       "                    False, False, False, False, False, False, False, False,\n",
       "                    False, False, False, False, False, False, False, False,\n",
       "                    False, False, False, False, False, False, False],\n",
       "        fill_value=1e+20,\n",
       "             dtype=float32),\n",
       " array([15246., 17968., 20036., 21097., 22162., 23203., 23779., 24314.,\n",
       "        25037., 25852., 26395., 26866., 27224., 27399., 27440., 27267.,\n",
       "        26859., 26331., 25522., 24489., 23230., 21737., 20184., 18454.,\n",
       "        16579., 14483., 12170.,  9861.,  8089.,  6724.,  5377.]))"
      ]
     },
     "execution_count": 9,
     "metadata": {},
     "output_type": "execute_result"
    }
   ],
   "source": [
    "simple_sum(files[0])"
   ]
  },
  {
   "cell_type": "code",
   "execution_count": 10,
   "metadata": {},
   "outputs": [],
   "source": [
    "# Attach Dask to the cluster\n",
    "if new_cluster:\n",
    "    client = Client(cluster)"
   ]
  },
  {
   "cell_type": "code",
   "execution_count": 11,
   "metadata": {},
   "outputs": [
    {
     "data": {
      "text/html": [
       "<table style=\"border: 2px solid white;\">\n",
       "<tr>\n",
       "<td style=\"vertical-align: top; border: 0px solid white\">\n",
       "<h3 style=\"text-align: left;\">Client</h3>\n",
       "<ul style=\"text-align: left; list-style: none; margin: 0; padding: 0;\">\n",
       "  <li><b>Scheduler: </b>tcp://10.48.128.15:45391</li>\n",
       "  <li><b>Dashboard: </b><a href='/user/scollis-ausopenradar2019-40ruzb12/proxy/8787/status' target='_blank'>/user/scollis-ausopenradar2019-40ruzb12/proxy/8787/status</a>\n",
       "</ul>\n",
       "</td>\n",
       "<td style=\"vertical-align: top; border: 0px solid white\">\n",
       "<h3 style=\"text-align: left;\">Cluster</h3>\n",
       "<ul style=\"text-align: left; list-style:none; margin: 0; padding: 0;\">\n",
       "  <li><b>Workers: </b>15</li>\n",
       "  <li><b>Cores: </b>30</li>\n",
       "  <li><b>Memory: </b>105.00 GB</li>\n",
       "</ul>\n",
       "</td>\n",
       "</tr>\n",
       "</table>"
      ],
      "text/plain": [
       "<Client: scheduler='tcp://10.48.128.15:45391' processes=15 cores=30>"
      ]
     },
     "execution_count": 11,
     "metadata": {},
     "output_type": "execute_result"
    }
   ],
   "source": [
    "client"
   ]
  },
  {
   "cell_type": "code",
   "execution_count": 12,
   "metadata": {},
   "outputs": [],
   "source": [
    "future = client.map(simple_sum, files)\n"
   ]
  },
  {
   "cell_type": "code",
   "execution_count": 13,
   "metadata": {},
   "outputs": [
    {
     "data": {
      "application/vnd.jupyter.widget-view+json": {
       "model_id": "2bbbeee6ed284807beac2b406dc554cf",
       "version_major": 2,
       "version_minor": 0
      },
      "text/plain": [
       "VBox()"
      ]
     },
     "metadata": {},
     "output_type": "display_data"
    }
   ],
   "source": [
    "progress(future)"
   ]
  },
  {
   "cell_type": "code",
   "execution_count": 14,
   "metadata": {},
   "outputs": [],
   "source": [
    "my_data = client.gather(future)"
   ]
  },
  {
   "cell_type": "code",
   "execution_count": null,
   "metadata": {},
   "outputs": [],
   "source": [
    "#my_data = client.gather(future)"
   ]
  },
  {
   "cell_type": "code",
   "execution_count": 15,
   "metadata": {},
   "outputs": [],
   "source": [
    "#filtered_data = filter(lambda i:not(type(i) is str), my_data)\n",
    "filtered_data = [value for value in my_data if type(value) != str]"
   ]
  },
  {
   "cell_type": "code",
   "execution_count": 16,
   "metadata": {},
   "outputs": [],
   "source": [
    "times = np.array([tpl[0] for tpl in filtered_data])\n",
    "z0 = np.array([tpl[1] for tpl in filtered_data])\n",
    "z10 = np.array([tpl[2] for tpl in filtered_data])\n",
    "z40 = np.array([tpl[3] for tpl in filtered_data])\n",
    "zprof = np.array([tpl[4] for tpl in filtered_data])\n",
    "zprofmax = np.array([tpl[5] for tpl in filtered_data])\n",
    "npts = np.array([tpl[6] for tpl in filtered_data])\n",
    "\n"
   ]
  },
  {
   "cell_type": "code",
   "execution_count": 17,
   "metadata": {},
   "outputs": [],
   "source": [
    "order = np.argsort(times)"
   ]
  },
  {
   "cell_type": "code",
   "execution_count": 18,
   "metadata": {},
   "outputs": [],
   "source": [
    "nptimes = times.astype('datetime64[ns]')"
   ]
  },
  {
   "cell_type": "code",
   "execution_count": 19,
   "metadata": {},
   "outputs": [
    {
     "name": "stderr",
     "output_type": "stream",
     "text": [
      "/srv/conda/envs/notebook/lib/python3.7/site-packages/pandas/plotting/_matplotlib/converter.py:103: FutureWarning: Using an implicitly registered datetime converter for a matplotlib plotting method. The converter was registered by pandas on import. Future versions of pandas will require you to explicitly register matplotlib converters.\n",
      "\n",
      "To register the converters:\n",
      "\t>>> from pandas.plotting import register_matplotlib_converters\n",
      "\t>>> register_matplotlib_converters()\n",
      "  warnings.warn(msg, FutureWarning)\n"
     ]
    },
    {
     "data": {
      "text/plain": [
       "<matplotlib.legend.Legend at 0x7f39220fd4e0>"
      ]
     },
     "execution_count": 19,
     "metadata": {},
     "output_type": "execute_result"
    },
    {
     "data": {
      "image/png": "[encoded data removed]",
      "text/plain": [
       "<Figure size 720x360 with 1 Axes>"
      ]
     },
     "metadata": {
      "needs_background": "light"
     },
     "output_type": "display_data"
    }
   ],
   "source": [
    "my_fig = plt.figure(figsize=[10,5])\n",
    "plt.plot(nptimes[order], z0[order], '.k', label='0dBz')\n",
    "plt.plot(nptimes[order], z10[order], '.b', label='10dBz')\n",
    "plt.plot(nptimes[order], z40[order], '.r', label='40dBz')\n",
    "plt.ylabel('ngates')\n",
    "plt.xlabel('Time')\n",
    "plt.legend()"
   ]
  },
  {
   "cell_type": "code",
   "execution_count": 20,
   "metadata": {},
   "outputs": [
    {
     "data": {
      "text/plain": [
       "<matplotlib.colorbar.Colorbar at 0x7f3921f67358>"
      ]
     },
     "execution_count": 20,
     "metadata": {},
     "output_type": "execute_result"
    },
    {
     "data": {
      "image/png": "[encoded data removed]",
      "text/plain": [
       "<Figure size 936x576 with 2 Axes>"
      ]
     },
     "metadata": {
      "needs_background": "light"
     },
     "output_type": "display_data"
    }
   ],
   "source": [
    "fig = plt.figure(figsize=[13,8])\n",
    "plt.pcolormesh(nptimes[order], range(31), zprof[order].transpose(),\n",
    "              cmap=pyart.graph.cm_colorblind.HomeyerRainbow)\n",
    "plt.colorbar()"
   ]
  },
  {
   "cell_type": "code",
   "execution_count": 25,
   "metadata": {},
   "outputs": [
    {
     "data": {
      "text/plain": [
       "<matplotlib.colorbar.Colorbar at 0x7f392197e198>"
      ]
     },
     "execution_count": 25,
     "metadata": {},
     "output_type": "execute_result"
    },
    {
     "data": {
      "image/png": "[encoded data removed]",
      "text/plain": [
       "<Figure size 936x576 with 2 Axes>"
      ]
     },
     "metadata": {
      "needs_background": "light"
     },
     "output_type": "display_data"
    }
   ],
   "source": [
    "fig = plt.figure(figsize=[13,8])\n",
    "plt.pcolormesh(nptimes[order], range(31), zprofmax[order].transpose(), vmin=10, vmax=85,\n",
    "               cmap=pyart.graph.cm_colorblind.HomeyerRainbow)\n",
    "plt.colorbar()"
   ]
  },
  {
   "cell_type": "code",
   "execution_count": null,
   "metadata": {},
   "outputs": [],
   "source": [
    "fig = plt.figure(figsize=[13,8])\n",
    "plt.pcolormesh(times[order], range(31), npts[order].transpose()/(801**2),\n",
    "               cmap=pyart.graph.cm_colorblind.HomeyerRainbow)\n",
    "plt.colorbar()"
   ]
  },
  {
   "cell_type": "code",
   "execution_count": null,
   "metadata": {},
   "outputs": [],
   "source": [
    "z_prof_max = grids.fields['reflectivity']['data'].max(axis=(1,2))"
   ]
  },
  {
   "cell_type": "code",
   "execution_count": null,
   "metadata": {},
   "outputs": [],
   "source": [
    "npts_over = np.array([float(len(np.where(grids.fields['reflectivity']['data'][i, :, :] > 10.)[0]))\\\n",
    "                      for i in range(grids.fields['reflectivity']['data'].shape[0])])"
   ]
  },
  {
   "cell_type": "code",
   "execution_count": null,
   "metadata": {},
   "outputs": [],
   "source": [
    "npts_over"
   ]
  },
  {
   "cell_type": "code",
   "execution_count": null,
   "metadata": {},
   "outputs": [],
   "source": []
  }
 ],
 "metadata": {
  "kernelspec": {
   "display_name": "Python 3",
   "language": "python",
   "name": "python3"
  },
  "language_info": {
   "codemirror_mode": {
    "name": "ipython",
    "version": 3
   },
   "file_extension": ".py",
   "mimetype": "text/x-python",
   "name": "python",
   "nbconvert_exporter": "python",
   "pygments_lexer": "ipython3",
   "version": "3.7.3"
  }
 },
 "nbformat": 4,
 "nbformat_minor": 4
}
