{
 "cells": [
  {
   "cell_type": "code",
   "execution_count": 4,
   "metadata": {},
   "outputs": [],
   "source": [
    "import nexradaws\n",
    "import tempfile\n",
    "import os\n",
    "import shutil\n",
    "import pyart\n",
    "from matplotlib import pyplot as plt\n",
    "from netCDF4 import num2date\n",
    "import numpy as np\n",
    "import cftime\n",
    "\n",
    "from dask_kubernetes import KubeCluster\n",
    "from dask.distributed import Client, TimeoutError\n",
    "from dask.distributed import wait, progress\n",
    "#import six"
   ]
  },
  {
   "cell_type": "code",
   "execution_count": 30,
   "metadata": {},
   "outputs": [
    {
     "ename": "ModuleNotFoundError",
     "evalue": "No module named 'nc_time_axis'",
     "output_type": "error",
     "traceback": [
      "\u001b[0;31m---------------------------------------------------------------------------\u001b[0m",
      "\u001b[0;31mModuleNotFoundError\u001b[0m                       Traceback (most recent call last)",
      "\u001b[0;32m<ipython-input-30-5e05534659f0>\u001b[0m in \u001b[0;36m<module>\u001b[0;34m\u001b[0m\n\u001b[0;32m----> 1\u001b[0;31m \u001b[0;32mimport\u001b[0m \u001b[0mnc_time_axis\u001b[0m\u001b[0;34m\u001b[0m\u001b[0;34m\u001b[0m\u001b[0m\n\u001b[0m",
      "\u001b[0;31mModuleNotFoundError\u001b[0m: No module named 'nc_time_axis'"
     ]
    }
   ],
   "source": []
  },
  {
   "cell_type": "code",
   "execution_count": 8,
   "metadata": {},
   "outputs": [],
   "source": [
    "#As it can take some time to spin up first start the Dask cluster\n",
    "# Select 20 'workers' under 'manual scaling' menu below and click 'Scale'\n",
    "# Click on the 'Dashboard link' to monitor calculation progress\n",
    "try:\n",
    "    client = Client('tcp://localhost:33949', timeout='2s')\n",
    "    new_cluster = False\n",
    "except TimeoutError:\n",
    "    print('NOOO!')\n",
    "    cluster = KubeCluster(n_workers=20)\n",
    "    cluster\n",
    "    new_cluster = True"
   ]
  },
  {
   "cell_type": "code",
   "execution_count": 33,
   "metadata": {},
   "outputs": [],
   "source": [
    "def simple_sum(filename):\n",
    "    try: #catch two common errors\n",
    "        this_dataset = pyart.aux_io.read_odim_h5(filename)\n",
    "        fp = 1\n",
    "        time_start = num2date(this_dataset.time['data'][0], this_dataset.time['units'])\n",
    "        tgates = float(this_dataset.ngates*this_dataset.nrays)\n",
    "        zdat = this_dataset.fields['reflectivity']['data']\n",
    "        fp = 2\n",
    "        z0 = float(len(np.where(zdat > 0.)[0]))/tgates\n",
    "        z10 = float(len(np.where(zdat > 10.)[0]))/tgates\n",
    "        z40 = float(len(np.where(zdat > 40.)[0]))/tgates\n",
    "                \n",
    "        grids = pyart.map.grid_from_radars(this_dataset,(31,801,801),\n",
    "                   ((0.,15000.),(-200000.,200000.),(-200000.,200000.)),\n",
    "                   fields=this_dataset.fields.keys(),\n",
    "                   refl_field='reflectivity', weighting_function='BARNES2')  \n",
    "        \n",
    "        z_prof_mean = grids.fields['reflectivity']['data'].mean(axis=(1,2))\n",
    "        z_prof_max = grids.fields['reflectivity']['data'].max(axis=(1,2))\n",
    "        npts_over = np.array([float(len(np.where(grids.fields['reflectivity']['data'][i, :, :] > 10.)[0]))\\\n",
    "                      for i in range(grids.fields['reflectivity']['data'].shape[0])])\n",
    "        \n",
    "        del this_dataset, grids\n",
    "        rv = (time_start, z0, z10, z40, \n",
    "              z_prof_mean, z_prof_max, npts_over)\n",
    "    except (TypeError, KeyError) as e:\n",
    "        rv = 'error'\n",
    "    return rv\n"
   ]
  },
  {
   "cell_type": "code",
   "execution_count": 10,
   "metadata": {},
   "outputs": [],
   "source": [
    "indir = os.path.expanduser('~/data/aus/terryhills/')"
   ]
  },
  {
   "cell_type": "code",
   "execution_count": 11,
   "metadata": {},
   "outputs": [],
   "source": [
    "files = os.listdir(indir)"
   ]
  },
  {
   "cell_type": "code",
   "execution_count": 12,
   "metadata": {},
   "outputs": [],
   "source": [
    "files = [os.path.join(indir, thise) for thise in files]"
   ]
  },
  {
   "cell_type": "code",
   "execution_count": 32,
   "metadata": {},
   "outputs": [
    {
     "ename": "AttributeError",
     "evalue": "'real_datetime' object has no attribute 'datetime'",
     "output_type": "error",
     "traceback": [
      "\u001b[0;31m---------------------------------------------------------------------------\u001b[0m",
      "\u001b[0;31mAttributeError\u001b[0m                            Traceback (most recent call last)",
      "\u001b[0;32m<ipython-input-32-35c85e07bc3d>\u001b[0m in \u001b[0;36m<module>\u001b[0;34m\u001b[0m\n\u001b[0;32m----> 1\u001b[0;31m \u001b[0msimple_sum\u001b[0m\u001b[0;34m(\u001b[0m\u001b[0mfiles\u001b[0m\u001b[0;34m[\u001b[0m\u001b[0;36m0\u001b[0m\u001b[0;34m]\u001b[0m\u001b[0;34m)\u001b[0m\u001b[0;34m\u001b[0m\u001b[0;34m\u001b[0m\u001b[0m\n\u001b[0m",
      "\u001b[0;32m<ipython-input-31-a86b34199c88>\u001b[0m in \u001b[0;36msimple_sum\u001b[0;34m(filename)\u001b[0m\n\u001b[1;32m      3\u001b[0m         \u001b[0mthis_dataset\u001b[0m \u001b[0;34m=\u001b[0m \u001b[0mpyart\u001b[0m\u001b[0;34m.\u001b[0m\u001b[0maux_io\u001b[0m\u001b[0;34m.\u001b[0m\u001b[0mread_odim_h5\u001b[0m\u001b[0;34m(\u001b[0m\u001b[0mfilename\u001b[0m\u001b[0;34m)\u001b[0m\u001b[0;34m\u001b[0m\u001b[0;34m\u001b[0m\u001b[0m\n\u001b[1;32m      4\u001b[0m         \u001b[0mfp\u001b[0m \u001b[0;34m=\u001b[0m \u001b[0;36m1\u001b[0m\u001b[0;34m\u001b[0m\u001b[0;34m\u001b[0m\u001b[0m\n\u001b[0;32m----> 5\u001b[0;31m         \u001b[0mtime_start\u001b[0m \u001b[0;34m=\u001b[0m \u001b[0mnum2date\u001b[0m\u001b[0;34m(\u001b[0m\u001b[0mthis_dataset\u001b[0m\u001b[0;34m.\u001b[0m\u001b[0mtime\u001b[0m\u001b[0;34m[\u001b[0m\u001b[0;34m'data'\u001b[0m\u001b[0;34m]\u001b[0m\u001b[0;34m[\u001b[0m\u001b[0;36m0\u001b[0m\u001b[0;34m]\u001b[0m\u001b[0;34m,\u001b[0m \u001b[0mthis_dataset\u001b[0m\u001b[0;34m.\u001b[0m\u001b[0mtime\u001b[0m\u001b[0;34m[\u001b[0m\u001b[0;34m'units'\u001b[0m\u001b[0;34m]\u001b[0m\u001b[0;34m)\u001b[0m\u001b[0;34m.\u001b[0m\u001b[0mdatetime\u001b[0m\u001b[0;34m\u001b[0m\u001b[0;34m\u001b[0m\u001b[0m\n\u001b[0m\u001b[1;32m      6\u001b[0m         \u001b[0mtgates\u001b[0m \u001b[0;34m=\u001b[0m \u001b[0mfloat\u001b[0m\u001b[0;34m(\u001b[0m\u001b[0mthis_dataset\u001b[0m\u001b[0;34m.\u001b[0m\u001b[0mngates\u001b[0m\u001b[0;34m*\u001b[0m\u001b[0mthis_dataset\u001b[0m\u001b[0;34m.\u001b[0m\u001b[0mnrays\u001b[0m\u001b[0;34m)\u001b[0m\u001b[0;34m\u001b[0m\u001b[0;34m\u001b[0m\u001b[0m\n\u001b[1;32m      7\u001b[0m         \u001b[0mzdat\u001b[0m \u001b[0;34m=\u001b[0m \u001b[0mthis_dataset\u001b[0m\u001b[0;34m.\u001b[0m\u001b[0mfields\u001b[0m\u001b[0;34m[\u001b[0m\u001b[0;34m'reflectivity'\u001b[0m\u001b[0;34m]\u001b[0m\u001b[0;34m[\u001b[0m\u001b[0;34m'data'\u001b[0m\u001b[0;34m]\u001b[0m\u001b[0;34m\u001b[0m\u001b[0;34m\u001b[0m\u001b[0m\n",
      "\u001b[0;31mAttributeError\u001b[0m: 'real_datetime' object has no attribute 'datetime'"
     ]
    }
   ],
   "source": [
    "simple_sum(files[0])"
   ]
  },
  {
   "cell_type": "code",
   "execution_count": 14,
   "metadata": {},
   "outputs": [],
   "source": [
    "# Attach Dask to the cluster\n",
    "if new_cluster:\n",
    "    client = Client(cluster)"
   ]
  },
  {
   "cell_type": "code",
   "execution_count": 15,
   "metadata": {},
   "outputs": [
    {
     "data": {
      "text/html": [
       "<table style=\"border: 2px solid white;\">\n",
       "<tr>\n",
       "<td style=\"vertical-align: top; border: 0px solid white\">\n",
       "<h3 style=\"text-align: left;\">Client</h3>\n",
       "<ul style=\"text-align: left; list-style: none; margin: 0; padding: 0;\">\n",
       "  <li><b>Scheduler: </b>tcp://localhost:33949</li>\n",
       "  <li><b>Dashboard: </b><a href='/user/openradar-ausopenradar2019-2kcgg639/proxy/8787/status' target='_blank'>/user/openradar-ausopenradar2019-2kcgg639/proxy/8787/status</a>\n",
       "</ul>\n",
       "</td>\n",
       "<td style=\"vertical-align: top; border: 0px solid white\">\n",
       "<h3 style=\"text-align: left;\">Cluster</h3>\n",
       "<ul style=\"text-align: left; list-style:none; margin: 0; padding: 0;\">\n",
       "  <li><b>Workers: </b>100</li>\n",
       "  <li><b>Cores: </b>200</li>\n",
       "  <li><b>Memory: </b>700.00 GB</li>\n",
       "</ul>\n",
       "</td>\n",
       "</tr>\n",
       "</table>"
      ],
      "text/plain": [
       "<Client: scheduler='tcp://10.48.94.18:33949' processes=100 cores=200>"
      ]
     },
     "execution_count": 15,
     "metadata": {},
     "output_type": "execute_result"
    }
   ],
   "source": [
    "client"
   ]
  },
  {
   "cell_type": "code",
   "execution_count": 16,
   "metadata": {},
   "outputs": [],
   "source": [
    "future = client.map(simple_sum, files)\n"
   ]
  },
  {
   "cell_type": "code",
   "execution_count": 17,
   "metadata": {},
   "outputs": [
    {
     "data": {
      "application/vnd.jupyter.widget-view+json": {
       "model_id": "3d23fd25389c40e3a87ccf2d980186a8",
       "version_major": 2,
       "version_minor": 0
      },
      "text/plain": [
       "VBox()"
      ]
     },
     "metadata": {},
     "output_type": "display_data"
    }
   ],
   "source": [
    "progress(future)"
   ]
  },
  {
   "cell_type": "code",
   "execution_count": 18,
   "metadata": {},
   "outputs": [],
   "source": [
    "my_data = client.gather(future)"
   ]
  },
  {
   "cell_type": "code",
   "execution_count": null,
   "metadata": {},
   "outputs": [],
   "source": [
    "#my_data = client.gather(future)"
   ]
  },
  {
   "cell_type": "code",
   "execution_count": 19,
   "metadata": {},
   "outputs": [],
   "source": [
    "#filtered_data = filter(lambda i:not(type(i) is str), my_data)\n",
    "filtered_data = [value for value in my_data if type(value) != str]"
   ]
  },
  {
   "cell_type": "code",
   "execution_count": 20,
   "metadata": {},
   "outputs": [],
   "source": [
    "times = np.array([tpl[0] for tpl in filtered_data])\n",
    "z0 = np.array([tpl[1] for tpl in filtered_data])\n",
    "z10 = np.array([tpl[2] for tpl in filtered_data])\n",
    "z40 = np.array([tpl[3] for tpl in filtered_data])\n",
    "zprof = np.array([tpl[4] for tpl in filtered_data])\n",
    "zprofmax = np.array([tpl[5] for tpl in filtered_data])\n",
    "npts = np.array([tpl[6] for tpl in filtered_data])\n",
    "\n"
   ]
  },
  {
   "cell_type": "code",
   "execution_count": 21,
   "metadata": {},
   "outputs": [],
   "source": [
    "order = np.argsort(times)"
   ]
  },
  {
   "cell_type": "code",
   "execution_count": 34,
   "metadata": {},
   "outputs": [],
   "source": [
    "nptimes = times.astype('datetime64[ns]')"
   ]
  },
  {
   "cell_type": "code",
   "execution_count": 36,
   "metadata": {},
   "outputs": [
    {
     "data": {
      "text/plain": [
       "<matplotlib.legend.Legend at 0x7f75fa3322e8>"
      ]
     },
     "execution_count": 36,
     "metadata": {},
     "output_type": "execute_result"
    },
    {
     "data": {
      "image/png": "[encoded data removed]",
      "text/plain": [
       "<Figure size 720x360 with 1 Axes>"
      ]
     },
     "metadata": {
      "needs_background": "light"
     },
     "output_type": "display_data"
    }
   ],
   "source": [
    "my_fig = plt.figure(figsize=[10,5])\n",
    "plt.plot(nptimes[order], z0[order], '.k', label='0dBz')\n",
    "plt.plot(nptimes[order], z10[order], '.b', label='10dBz')\n",
    "plt.plot(nptimes[order], z40[order], '.r', label='40dBz')\n",
    "plt.ylabel('ngates')\n",
    "plt.xlabel('Time')\n",
    "plt.legend()"
   ]
  },
  {
   "cell_type": "code",
   "execution_count": 37,
   "metadata": {},
   "outputs": [
    {
     "data": {
      "text/plain": [
       "<matplotlib.colorbar.Colorbar at 0x7f75faeb4438>"
      ]
     },
     "execution_count": 37,
     "metadata": {},
     "output_type": "execute_result"
    },
    {
     "data": {
      "image/png": "[encoded data removed]",
      "text/plain": [
       "<Figure size 936x576 with 2 Axes>"
      ]
     },
     "metadata": {
      "needs_background": "light"
     },
     "output_type": "display_data"
    }
   ],
   "source": [
    "fig = plt.figure(figsize=[13,8])\n",
    "plt.pcolormesh(nptimes[order], range(31), zprof[order].transpose(),\n",
    "              cmap=pyart.graph.cm_colorblind.HomeyerRainbow)\n",
    "plt.colorbar()"
   ]
  },
  {
   "cell_type": "code",
   "execution_count": null,
   "metadata": {},
   "outputs": [],
   "source": [
    "fig = plt.figure(figsize=[13,8])\n",
    "plt.pcolormesh(times[order], range(31), zprofmax[order].transpose(), vmin=0, vmax=65,\n",
    "               cmap=pyart.graph.cm_colorblind.HomeyerRainbow)\n",
    "plt.colorbar()"
   ]
  },
  {
   "cell_type": "code",
   "execution_count": null,
   "metadata": {},
   "outputs": [],
   "source": [
    "fig = plt.figure(figsize=[13,8])\n",
    "plt.pcolormesh(times[order], range(31), npts[order].transpose()/(801**2),\n",
    "               cmap=pyart.graph.cm_colorblind.HomeyerRainbow)\n",
    "plt.colorbar()"
   ]
  },
  {
   "cell_type": "code",
   "execution_count": null,
   "metadata": {},
   "outputs": [],
   "source": [
    "z_prof_max = grids.fields['reflectivity']['data'].max(axis=(1,2))"
   ]
  },
  {
   "cell_type": "code",
   "execution_count": null,
   "metadata": {},
   "outputs": [],
   "source": [
    "npts_over = np.array([float(len(np.where(grids.fields['reflectivity']['data'][i, :, :] > 10.)[0]))\\\n",
    "                      for i in range(grids.fields['reflectivity']['data'].shape[0])])"
   ]
  },
  {
   "cell_type": "code",
   "execution_count": null,
   "metadata": {},
   "outputs": [],
   "source": [
    "npts_over"
   ]
  },
  {
   "cell_type": "code",
   "execution_count": null,
   "metadata": {},
   "outputs": [],
   "source": []
  }
 ],
 "metadata": {
  "kernelspec": {
   "display_name": "Python 3",
   "language": "python",
   "name": "python3"
  },
  "language_info": {
   "codemirror_mode": {
    "name": "ipython",
    "version": 3
   },
   "file_extension": ".py",
   "mimetype": "text/x-python",
   "name": "python",
   "nbconvert_exporter": "python",
   "pygments_lexer": "ipython3",
   "version": "3.7.3"
  }
 },
 "nbformat": 4,
 "nbformat_minor": 4
}
